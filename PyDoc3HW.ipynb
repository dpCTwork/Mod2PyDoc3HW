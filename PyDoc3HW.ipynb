{
 "cells": [
  {
   "cell_type": "markdown",
   "metadata": {},
   "source": [
    "# Data Collections 2 (Dictionaries, Sets) and Importing Modules"
   ]
  },
  {
   "cell_type": "markdown",
   "metadata": {},
   "source": [
    "## Tasks Today:\n",
    "\n",
    "1) Dictionary <br>\n",
    " &nbsp;&nbsp;&nbsp;&nbsp; a) Declaring (key, value) <br>\n",
    " &nbsp;&nbsp;&nbsp;&nbsp; b) Accessing Values <br>\n",
    " &nbsp;&nbsp;&nbsp;&nbsp; ------ Exercise #1 - Print the eye color of each person in a double nested dict <br>\n",
    " &nbsp;&nbsp;&nbsp;&nbsp; c) Adding New Pairs <br>\n",
    " &nbsp;&nbsp;&nbsp;&nbsp; d) Modifying Values <br>\n",
    " &nbsp;&nbsp;&nbsp;&nbsp; e) Removing Key, Value Pairs <br>\n",
    " &nbsp;&nbsp;&nbsp;&nbsp; f) Looping a Dictionary <br>\n",
    " &nbsp;&nbsp;&nbsp;&nbsp; g) Looping Only Keys <br>\n",
    " &nbsp;&nbsp;&nbsp;&nbsp; h) Looping Only Values <br>\n",
    " &nbsp;&nbsp;&nbsp;&nbsp; ------ Exercise #2 - Create a Function that Prints All Key Value Pairs within a print .format()  <br>\n",
    " &nbsp;&nbsp;&nbsp;&nbsp; i) sorted() <br>\n",
    " &nbsp;&nbsp;&nbsp;&nbsp; j) Lists with Dictionaries <br>\n",
    " &nbsp;&nbsp;&nbsp;&nbsp; k) Dictionaries with Lists <br>\n",
    " &nbsp;&nbsp;&nbsp;&nbsp; l) Dictionaries with Dictionaries <br>\n",
    " &nbsp;&nbsp;&nbsp;&nbsp; ------ Exercise #3 - Write a Function that asks someone's name and address, and then stores that into a dictionary, which prints all names and addresses after they're done putting information in...  <br>\n",
    "2) Dictionaries vs. Lists (over time)<br>\n",
    "3) Set <br>\n",
    " &nbsp;&nbsp;&nbsp;&nbsp; a) Declaring <br>\n",
    " &nbsp;&nbsp;&nbsp;&nbsp; b) .add() <br>\n",
    " &nbsp;&nbsp;&nbsp;&nbsp; c) .remove() <br>\n",
    " &nbsp;&nbsp;&nbsp;&nbsp; d) .union() <br>\n",
    " &nbsp;&nbsp;&nbsp;&nbsp; e) .intersection() <br>\n",
    " &nbsp;&nbsp;&nbsp;&nbsp; f) .difference() <br>\n",
    " &nbsp;&nbsp;&nbsp;&nbsp; g) Frozen Set <br>\n",
    "4) Modules <br>\n",
    " &nbsp;&nbsp;&nbsp;&nbsp; a) Importing Entire Modules <br>\n",
    " &nbsp;&nbsp;&nbsp;&nbsp; b) Importing Methods Only <br>\n",
    " &nbsp;&nbsp;&nbsp;&nbsp; c) Using the 'as' Keyword <br>\n",
    " &nbsp;&nbsp;&nbsp;&nbsp; d) Creating a Module <br>\n",
    "5) Exercises <br>\n",
    " &nbsp;&nbsp;&nbsp;&nbsp; a) Build a Shopping Cart <br>\n",
    " &nbsp;&nbsp;&nbsp;&nbsp; b) Create Your Own Module <br>"
   ]
  },
  {
   "cell_type": "markdown",
   "metadata": {},
   "source": [
    "## Dictionary <br>\n",
    "<p>A collection of data with 'key:value' pairs. Dictionaries are ordered as of Python 3.6</p>"
   ]
  },
  {
   "cell_type": "markdown",
   "metadata": {},
   "source": [
    "##### Declaring (key, value)"
   ]
  },
  {
   "cell_type": "code",
   "execution_count": 17,
   "metadata": {},
   "outputs": [
    {
     "data": {
      "text/plain": [
       "'fit'"
      ]
     },
     "execution_count": 17,
     "metadata": {},
     "output_type": "execute_result"
    }
   ],
   "source": [
    "# trying to store attributes with a list\n",
    "my_car = ['honda', 'fit', 'white', '2006']\n",
    "\n",
    "sean_vehicle = ['electric', 'honda', 'scooter', '2002']\n",
    "\n",
    "my_car[0]\n",
    "\n",
    "sean_vehicle[0]\n",
    "\n",
    "my_car[-1]\n",
    "\n",
    "# much easier with a dict of key-value pair\n",
    "\n",
    "# Keys should be unique\n",
    "# Can use numbers or strings as keys\n",
    "\n",
    "# To declare something as a dict:\n",
    "# dict_1 = {}\n",
    "# OR\n",
    "# dict_2 = dict()\n",
    "\n",
    "my_car_dict = {\n",
    "    'make' : 'honda',\n",
    "    'model' : 'fit',\n",
    "    'color' : 'white',\n",
    "    'year' : 2006,\n",
    "    #number as key is possible\n",
    "#     0 : 'This is the VALUE for the KEY of 0'\n",
    "}\n",
    "\n",
    "sean_vehicle_dict = {'make': 'honda', 'model' : 'civic'}\n",
    "\n",
    "my_car_dict['model']\n",
    "\n",
    "\n",
    "\n"
   ]
  },
  {
   "cell_type": "code",
   "execution_count": 8,
   "metadata": {},
   "outputs": [
    {
     "data": {
      "text/plain": [
       "'white'"
      ]
     },
     "execution_count": 8,
     "metadata": {},
     "output_type": "execute_result"
    }
   ],
   "source": [
    "my_car_dict['color']"
   ]
  },
  {
   "cell_type": "code",
   "execution_count": 7,
   "metadata": {},
   "outputs": [
    {
     "data": {
      "text/plain": [
       "'civic'"
      ]
     },
     "execution_count": 7,
     "metadata": {},
     "output_type": "execute_result"
    }
   ],
   "source": [
    "sean_vehicle_dict['model']"
   ]
  },
  {
   "cell_type": "markdown",
   "metadata": {},
   "source": [
    "##### Accessing Values"
   ]
  },
  {
   "cell_type": "code",
   "execution_count": 19,
   "metadata": {},
   "outputs": [
    {
     "name": "stdout",
     "output_type": "stream",
     "text": [
      "fit\n",
      "2006\n"
     ]
    }
   ],
   "source": [
    "# access values with index notation by keying into dict\n",
    "# dict[key]\n",
    "\n",
    "print(my_car_dict['model'])\n",
    "print(my_car_dict['year'])"
   ]
  },
  {
   "cell_type": "code",
   "execution_count": 23,
   "metadata": {},
   "outputs": [
    {
     "name": "stdout",
     "output_type": "stream",
     "text": [
      "['make', 'model', 'color', 'year']\n",
      "\n",
      "\n",
      "honda\n",
      "fit\n",
      "white\n",
      "2006\n",
      "\n",
      "\n",
      "2006\n",
      "2006\n",
      "2006\n",
      "2006\n"
     ]
    }
   ],
   "source": [
    "print(list(my_car_dict.keys()))\n",
    "print('\\n')\n",
    "\n",
    "keys_list = list(my_car_dict.keys())\n",
    "\n",
    "for key in keys_list:\n",
    "    print(my_car_dict[key])\n",
    "\n",
    "print('\\n')\n",
    "\n",
    "for k in my_car_dict.keys():\n",
    "    print(my_car_dict[key])"
   ]
  },
  {
   "cell_type": "markdown",
   "metadata": {},
   "source": [
    "## In-Class Exercise #1 - Print a formatted statement from the dictionary below <br>\n",
    "<p>The output should be '2018 Chevrolet Silverado'</p>"
   ]
  },
  {
   "cell_type": "code",
   "execution_count": 50,
   "metadata": {},
   "outputs": [
    {
     "name": "stdout",
     "output_type": "stream",
     "text": [
      "My truck is a 2018 model, the Silverado, from the maker, Chevrolet\n"
     ]
    }
   ],
   "source": [
    "# use the dict below\n",
    "truck = {\n",
    "    'year': 2018,\n",
    "    'make': 'Chevrolet',\n",
    "    'model': 'Silverado'\n",
    "}\n",
    "\n",
    "print(f\"My truck is a {truck['year']} model, the {truck['model']}, from the maker, {truck['make']}\")\n"
   ]
  },
  {
   "cell_type": "markdown",
   "metadata": {},
   "source": [
    "##### Adding New Pairs"
   ]
  },
  {
   "cell_type": "code",
   "execution_count": 51,
   "metadata": {},
   "outputs": [
    {
     "name": "stdout",
     "output_type": "stream",
     "text": [
      "{'year': 2018, 'make': 'Chevrolet', 'model': 'Silverado'}\n",
      "{'year': 2006, 'make': 'Chevrolet', 'model': 'Silverado', 'color': 'blue'}\n"
     ]
    }
   ],
   "source": [
    "print(truck)\n",
    "\n",
    "# adding k,v pair after dict is created\n",
    "# syntax <name_of_dict>[<key_to_add>] = <value>\n",
    "# dict[key] = value\n",
    "truck['color'] = 'blue'\n",
    "\n",
    "# can also modify existing value!\n",
    "truck['year'] = 2006\n",
    "\n",
    "print(truck)"
   ]
  },
  {
   "cell_type": "code",
   "execution_count": 52,
   "metadata": {
    "scrolled": true
   },
   "outputs": [
    {
     "name": "stdout",
     "output_type": "stream",
     "text": [
      "{'year': 2006, 'make': 'Chevrolet', 'model': 'Silverado', 'color': 'blue'}\n",
      "{'year': 2006, 'make': 'Chevrolet', 'model': 'Silverado', 'color': 'blue', 'new year': 2006}\n"
     ]
    }
   ],
   "source": [
    "# But can't modify existing key directly in the dict.\n",
    "\n",
    "print(truck)\n",
    "truck['new year'] = truck['year']\n",
    "print(truck)\n",
    "\n",
    "# This would append the new key 'new_year' to the end of the existing dictionary\n",
    "# and assign the VALUE of the old key to our new KEY - 'new year'"
   ]
  },
  {
   "cell_type": "code",
   "execution_count": 56,
   "metadata": {},
   "outputs": [
    {
     "name": "stdout",
     "output_type": "stream",
     "text": [
      "{'year': 2018, 'make': 'Chevrolet', 'model': 'Silverado'}\n",
      "\n",
      "\n",
      "{'make': 'Chevrolet', 'model': 'Silverado', 'new year': 2018}\n"
     ]
    }
   ],
   "source": [
    "# Instead, you would have to either do the above and then go back and delete the old key, \n",
    "# which leaves the new key still appended to the end, OR\n",
    "# use the .pop() method to pop the old key OUT of the dictionary, so it becomes mutable and thus modifiable.\n",
    "\n",
    "#SO, using the above attempt at reassigning, and then going back and deleting the old key:\n",
    "new_dict = {\n",
    "    'year': 2018,\n",
    "    'make': 'Chevrolet',\n",
    "    'model': 'Silverado'\n",
    "}\n",
    "\n",
    "print(new_dict)\n",
    "print('\\n')\n",
    "\n",
    "# We can make a new key and assign the old key's value to it\n",
    "\n",
    "new_dict['new year'] = new_dict['year']\n",
    "del new_dict['year']\n",
    "\n",
    "# NOTE: we CANNOT do the reverse: \n",
    "# new_dict['year'] = new_dict['new year']\n",
    "# because you always assign what's on the RIGHT of the '=' TO the LEFT of the '='\n",
    "# 'new year' has nothing to assign to 'year'. We want to assign 'year' to 'new year'\n",
    "\n",
    "\n",
    "# Now we have the new key with the old key's value, but the new key stays appended at the end.\n",
    "print(new_dict)"
   ]
  },
  {
   "cell_type": "code",
   "execution_count": 61,
   "metadata": {},
   "outputs": [
    {
     "name": "stdout",
     "output_type": "stream",
     "text": [
      "{'year': 2018, 'make': 'Chevrolet', 'model': 'Silverado'}\n",
      "\n",
      "\n",
      "{'make': 'Chevrolet', 'model': 'Silverado', 'new year': 2018}\n"
     ]
    }
   ],
   "source": [
    "# What if we use the .pop() method? STILL stays appended to the end.\n",
    "\n",
    "new_dict_2 = {\n",
    "    'year': 2018,\n",
    "    'make': 'Chevrolet',\n",
    "    'model': 'Silverado'\n",
    "}\n",
    "\n",
    "print(new_dict_2)\n",
    "print('\\n')\n",
    "\n",
    "# We take the popped key 'year', now taken out of the dict, and assign it to a new key variable, 'new year'\n",
    "new_dict_2['new year'] = new_dict_2.pop('year')\n",
    "# Note the arg passed to .pop() doesn't have brackets, it's just the key itself\n",
    "\n",
    "print(new_dict_2)"
   ]
  },
  {
   "cell_type": "code",
   "execution_count": 62,
   "metadata": {
    "scrolled": true
   },
   "outputs": [
    {
     "name": "stdout",
     "output_type": "stream",
     "text": [
      "{'year': 2018, 'make': 'Chevrolet', 'model': 'Silverado'}\n",
      "['new year', 'new make', 'new model']\n",
      "\n",
      "\n",
      "<zip object at 0x7f93e8b66d00>\n",
      "\n",
      "\n",
      "{'new year': 2018, 'new make': 'Chevrolet', 'new model': 'Silverado'}\n"
     ]
    }
   ],
   "source": [
    "# both creating new key and going back to delete the old AND the .pop() method leaves new key at the end\n",
    "# Instead, we can use zip() method:\n",
    "\n",
    "# So let's do the original new_dict_2 again:\n",
    "new_dict_2 = {\n",
    "    'year': 2018,\n",
    "    'make': 'Chevrolet',\n",
    "    'model': 'Silverado'\n",
    "}\n",
    "print(new_dict_2)\n",
    "\n",
    "# Now, first create a new list with the new key names that we want to update old dict to\n",
    "new_list = ['new year', 'new make', 'new model']\n",
    "print(new_list)\n",
    "print('\\n')\n",
    "\n",
    "# Then use zip to map the new list of keys and the VALUES of the old dict to each other.\n",
    "# Since right now, the new list is a list, while old dict values is in the type of dict, which is immutable,\n",
    "# You turn the dict values into a list with list(),\n",
    "\n",
    "new_zipped_list = zip(new_list, list(new_dict_2.values()))\n",
    "print(new_zipped_list)\n",
    "print('\\n')\n",
    "\n",
    "# then once the list is all zipped and matched correctly, turn the list back into a dict\n",
    "# trying to print the zip method will only show that it is now zipped, but won't print the actual list\n",
    "# you need to turn it back to a dict from the zip form\n",
    "\n",
    "new_zipped_dict = dict(new_zipped_list)\n",
    "print(new_zipped_dict)\n"
   ]
  },
  {
   "cell_type": "code",
   "execution_count": 71,
   "metadata": {},
   "outputs": [
    {
     "name": "stdout",
     "output_type": "stream",
     "text": [
      "{'year': 2018, 'make': 'Chevrolet', 'model': 'Silverado'}\n",
      "\n",
      "\n",
      "['new year', 'new make', 'new model']\n",
      "\n",
      "\n",
      "{'new year': 2018, 'new make': 'Chevrolet', 'new model': 'Silverado'}\n"
     ]
    }
   ],
   "source": [
    "# TO recreate above in a shorter way:\n",
    "# Rather than zipping in one step, then turning the zip into dict in another,\n",
    "# Just do both at once!\n",
    "\n",
    "#SO:\n",
    "truck = {\n",
    "    'year': 2018,\n",
    "    'make': 'Chevrolet',\n",
    "    'model': 'Silverado'\n",
    "}\n",
    "print(truck)\n",
    "print('\\n')\n",
    "\n",
    "#Now the new list with the new key names:\n",
    "new_list = ['new year', 'new make', 'new model']\n",
    "print(new_list)\n",
    "print('\\n')\n",
    "\n",
    "# Now change dict to list to make it mutable, and specify that it's the VALUES we want for the zip\n",
    "# list(new_dict_2.values())\n",
    "# zip to map dict values to new list keys\n",
    "# zip(new_list, list(new_dict_2.values()))\n",
    "# and then turn it into a dict again in ONE GO!\n",
    "# dict(zip(new_list, list(new_dict_2.values())))\n",
    "# Because dicts are immutable, you can't do this to the old dict, \n",
    "# so you need to assign this new result to a new dict name. FINALLY:\n",
    "\n",
    "new_truck = dict(zip(new_list, list(truck.values())))\n",
    "print(new_truck)"
   ]
  },
  {
   "cell_type": "markdown",
   "metadata": {},
   "source": [
    "##### Modifying Values"
   ]
  },
  {
   "cell_type": "code",
   "execution_count": 65,
   "metadata": {},
   "outputs": [
    {
     "name": "stdout",
     "output_type": "stream",
     "text": [
      "{'year': 2018, 'make': 'Chevrolet', 'model': 'Silverado'}\n",
      "{'year': 2018, 'make': 'Chevrolet', 'model': 'Silverado', 'color': 'yellow'}\n"
     ]
    }
   ],
   "source": [
    "print(truck)\n",
    "\n",
    "# assign new value to existing key\n",
    "truck['color'] = 'yellow'\n",
    "print(truck)"
   ]
  },
  {
   "cell_type": "markdown",
   "metadata": {},
   "source": [
    "##### Removing Key, Value Pairs"
   ]
  },
  {
   "cell_type": "code",
   "execution_count": 66,
   "metadata": {},
   "outputs": [
    {
     "name": "stdout",
     "output_type": "stream",
     "text": [
      "{'year': 2018, 'make': 'Chevrolet', 'model': 'Silverado'}\n"
     ]
    }
   ],
   "source": [
    "del truck['color']\n",
    "print(truck)\n",
    "\n",
    "# deleting a key from the dict also automatically removes its value, since there's no key to hold the value"
   ]
  },
  {
   "cell_type": "code",
   "execution_count": 72,
   "metadata": {},
   "outputs": [
    {
     "name": "stdout",
     "output_type": "stream",
     "text": [
      "2018\n",
      "{'make': 'Chevrolet', 'model': 'Silverado'}\n"
     ]
    }
   ],
   "source": [
    "print(truck.pop('year'))\n",
    "print(truck)\n",
    "\n",
    "# Similar to deleting, but you can still USE the item that's popped, in order to shorten the steps as shown above"
   ]
  },
  {
   "cell_type": "markdown",
   "metadata": {},
   "source": [
    "##### Looping a Dictionary"
   ]
  },
  {
   "cell_type": "code",
   "execution_count": 91,
   "metadata": {},
   "outputs": [
    {
     "name": "stdout",
     "output_type": "stream",
     "text": [
      "dict_items([('year', 2018), ('make', 'Chevrolet'), ('model', 'Silverado')])\n",
      "Truck year 2018\n",
      "Truck make Chevrolet\n",
      "Truck model Silverado\n"
     ]
    }
   ],
   "source": [
    "# .items()\n",
    "# a, b, c = 1, 2, 3\n",
    "# print(a)\n",
    "# print(b)\n",
    "# print(c)\n",
    "\n",
    "print(truck.items())\n",
    "\n",
    "for k,v in truck.items():\n",
    "    print(f'Truck {k} {v}')"
   ]
  },
  {
   "cell_type": "markdown",
   "metadata": {},
   "source": [
    "##### Looping Only Keys"
   ]
  },
  {
   "cell_type": "code",
   "execution_count": 92,
   "metadata": {},
   "outputs": [
    {
     "name": "stdout",
     "output_type": "stream",
     "text": [
      "Truck year 2018\n",
      "Truck make Chevrolet\n",
      "Truck model Silverado\n"
     ]
    }
   ],
   "source": [
    "# .keys()\n",
    "# .keys() <-- this is the default loops if item, key, or value is not specified.\n",
    "for key in truck.keys():\n",
    "#    print(key)\n",
    "    print(f'Truck {key} {truck[key]}')"
   ]
  },
  {
   "cell_type": "markdown",
   "metadata": {},
   "source": [
    "##### Looping Only Values"
   ]
  },
  {
   "cell_type": "code",
   "execution_count": 93,
   "metadata": {
    "scrolled": true
   },
   "outputs": [
    {
     "name": "stdout",
     "output_type": "stream",
     "text": [
      "truck info: 2018\n",
      "truck info: Chevrolet\n",
      "truck info: Silverado\n"
     ]
    }
   ],
   "source": [
    "# .values()\n",
    "\n",
    "for value in truck.values():\n",
    "    print(f'truck info: {value}')"
   ]
  },
  {
   "cell_type": "markdown",
   "metadata": {},
   "source": [
    "#### RECAP of Looping options with dicts"
   ]
  },
  {
   "cell_type": "code",
   "execution_count": 94,
   "metadata": {
    "scrolled": true
   },
   "outputs": [
    {
     "name": "stdout",
     "output_type": "stream",
     "text": [
      "year 2018\n",
      "make Chevrolet\n",
      "model Silverado\n"
     ]
    }
   ],
   "source": [
    "# Loop through the whole dict, both key and values:\n",
    "# .items()\n",
    "\n",
    "for k,v in truck.items():\n",
    "    print(k,v)"
   ]
  },
  {
   "cell_type": "code",
   "execution_count": 96,
   "metadata": {},
   "outputs": [
    {
     "name": "stdout",
     "output_type": "stream",
     "text": [
      "year\n",
      "make\n",
      "model\n"
     ]
    }
   ],
   "source": [
    "# Loop through only keys:\n",
    "# .keys()\n",
    "\n",
    "for x in truck.keys():\n",
    "    print(x)"
   ]
  },
  {
   "cell_type": "code",
   "execution_count": 97,
   "metadata": {},
   "outputs": [
    {
     "name": "stdout",
     "output_type": "stream",
     "text": [
      "2018\n",
      "Chevrolet\n",
      "Silverado\n"
     ]
    }
   ],
   "source": [
    "# Loop through only values:\n",
    "# .values()\n",
    "\n",
    "for x in truck.values():\n",
    "    print(x)"
   ]
  },
  {
   "cell_type": "markdown",
   "metadata": {},
   "source": [
    "## In-Class Exercise #2 - Create a Function that Prints All Key Value Pairs within a print .format() <br>\n",
    "<p><b>Output should be:</b><br>\n",
    "Max has blue eyes<br>\n",
    "Lilly has brown eyes<br>\n",
    "Barney has blue eyes<br>\n",
    "etc.\n",
    "</p>"
   ]
  },
  {
   "cell_type": "code",
   "execution_count": 98,
   "metadata": {},
   "outputs": [
    {
     "name": "stdout",
     "output_type": "stream",
     "text": [
      "Max has blue eyes\n",
      "Lilly has brown eyes\n",
      "Barney has blue eyes\n",
      "Larney has brown eyes\n",
      "Ted has purple eyes\n"
     ]
    }
   ],
   "source": [
    "# use the dict below\n",
    "\n",
    "people = {\n",
    "    'Max': 'blue',\n",
    "    'Lilly': 'brown',\n",
    "    'Barney': 'blue',\n",
    "    'Larney': 'brown',\n",
    "    'Ted': 'purple'\n",
    "}\n",
    "\n",
    "for k,v in people.items():\n",
    "    print(f'{k} has {v} eyes')"
   ]
  },
  {
   "cell_type": "markdown",
   "metadata": {},
   "source": [
    "##### sorted()"
   ]
  },
  {
   "cell_type": "code",
   "execution_count": null,
   "metadata": {},
   "outputs": [],
   "source": [
    "# sorts variables in order\n",
    "# sorted(dict.values()) or dict.keys() or dict.items()\n",
    "\n"
   ]
  },
  {
   "cell_type": "markdown",
   "metadata": {},
   "source": [
    "##### List with Dictionaries"
   ]
  },
  {
   "cell_type": "code",
   "execution_count": 103,
   "metadata": {},
   "outputs": [
    {
     "name": "stdout",
     "output_type": "stream",
     "text": [
      "harmonica\n",
      "\n",
      "\n",
      "{'name': 'Jimi', 'age': 32, 'instruments': ['guitar', 'keyboard', 'drums']}\n",
      "{'name': 'Sean', 'age': 25, 'instruments': ['bass', 'sax']}\n",
      "{'name': 'Bob Dylan', 'age': 45, 'instruments': ['harmonica']}\n",
      "\n",
      "\n",
      "{'name': 'Jimi', 'age': 32, 'instruments': ['guitar', 'keyboard', 'drums']}\n",
      "\n",
      "\n",
      "['bass', 'sax']\n"
     ]
    }
   ],
   "source": [
    "rockstar = {\n",
    "    'name': 'Jimi',\n",
    "    'age': 32,\n",
    "    'instruments': ['guitar','keyboard','drums']\n",
    "}\n",
    "\n",
    "rockstars = [\n",
    "    {\n",
    "        'name' : 'Jimi',\n",
    "        'age' : 32,\n",
    "        'instruments': ['guitar','keyboard','drums']\n",
    "    },\n",
    "    {\n",
    "        'name' : 'Sean',\n",
    "        'age' : 25,\n",
    "        'instruments' : ['bass', 'sax']\n",
    "    },\n",
    "    {\n",
    "        'name' : 'Bob Dylan',\n",
    "        'age' : 45,\n",
    "        'instruments' : ['harmonica']\n",
    "    }\n",
    "]\n",
    "\n",
    "#length of our list here is 3, with each element having 3 k-v pairs.\n",
    "# rockstars[position of dictionary in list][key within this specific dictionary][position of the value in nested list]\n",
    "# in this case, \"nested list\" only has 1 value in the 0 (default) position -- 'harmonica'\n",
    "\n",
    "print(rockstars[2]['instruments'][0])\n",
    "print('\\n')\n",
    "\n",
    "# This would print all the dictionaries in the list\n",
    "for i in rockstars:\n",
    "    print(i)\n",
    "print('\\n')\n",
    "    \n",
    "# To print a particular dictionary within a list, let's say the first one, which is indexed at [0]:\n",
    "print(rockstars[0])\n",
    "print('\\n')\n",
    "\n",
    "# To print a particular k-v pair of a particular dict:\n",
    "# Let's say we want the instruments (indexed at [2]) listed in our second dict (or index[1])\n",
    "# the key can't be called by indexing. You have to specify the key name:\n",
    "print(rockstars[1]['instruments'])\n"
   ]
  },
  {
   "cell_type": "markdown",
   "metadata": {},
   "source": [
    "##### Dictionaries with Lists"
   ]
  },
  {
   "cell_type": "code",
   "execution_count": 123,
   "metadata": {},
   "outputs": [
    {
     "name": "stdout",
     "output_type": "stream",
     "text": [
      "Edinburgh\n",
      "['PA', 'UK', 'CA']\n",
      "\n",
      "\n",
      "Philly\n",
      "Edinburgh\n",
      "Pasadena\n",
      "\n",
      "\n",
      "['Philly', 'Edinburgh', 'Pasadena']\n"
     ]
    }
   ],
   "source": [
    "# be careful when using numbers as keys in dictionaries, don't confuse them with indexes\n",
    "\n",
    "dict_1 = {\n",
    "    'name': 'David',\n",
    "    'age': 39,\n",
    "    'cities': ['Philly', 'Edinburgh', 'Pasadena'],\n",
    "    'states': ['PA', 'UK', 'CA']\n",
    "}\n",
    "\n",
    "# To get a particular item in the list(value) of a key (in this case, 'cities')\n",
    "print(dict_1['cities'][1])\n",
    "\n",
    "# To get all the list items of a particular key (in this case, 'states')\n",
    "print(dict_1['states'])\n",
    "print('\\n')\n",
    "\n",
    "# To iterate through the list in a given key:\n",
    "for item in dict_1['cities']:\n",
    "    print(item)\n",
    "print('\\n')\n",
    "\n",
    "# OR to practice list comprehension:\n",
    "print([item for item in dict_1['cities']])\n"
   ]
  },
  {
   "cell_type": "markdown",
   "metadata": {},
   "source": [
    "##### Dictionaries with Dictionaries"
   ]
  },
  {
   "cell_type": "code",
   "execution_count": 138,
   "metadata": {},
   "outputs": [
    {
     "name": "stdout",
     "output_type": "stream",
     "text": [
      "3.99\n",
      "\n",
      "\n",
      "('chocolate', 2.99)\n",
      "('vanilla', 1.99)\n",
      "('oreo', 3.99)\n",
      "('pb', 5.99)\n",
      "\n",
      "\n",
      "ice cream\n",
      "juice\n",
      "meat\n",
      "\n",
      "\n",
      "chocolate\n",
      "vanilla\n",
      "oreo\n",
      "pb\n",
      "\n",
      "\n",
      "dict_keys(['ice cream', 'juice', 'meat'])\n",
      "ice cream\n",
      "juice\n",
      "meat\n",
      "\n",
      "\n",
      "('ice cream', {'chocolate': 2.99, 'vanilla': 1.99, 'oreo': 3.99, 'pb': 5.99})\n",
      "('juice', {'orange': 3.99, 'apple': 2.99, 'pineapple': 4.99})\n",
      "('meat', {'chicken': 3.99, 'pork': 4.99, 'beef': 5.99})\n",
      "\n",
      "\n",
      "dict_items([('ice cream', {'chocolate': 2.99, 'vanilla': 1.99, 'oreo': 3.99, 'pb': 5.99}), ('juice', {'orange': 3.99, 'apple': 2.99, 'pineapple': 4.99}), ('meat', {'chicken': 3.99, 'pork': 4.99, 'beef': 5.99})])\n",
      "\n",
      "\n",
      "{'chocolate': 2.99, 'vanilla': 1.99, 'oreo': 3.99, 'pb': 5.99}\n",
      "{'orange': 3.99, 'apple': 2.99, 'pineapple': 4.99}\n",
      "{'chicken': 3.99, 'pork': 4.99, 'beef': 5.99}\n",
      "\n",
      "\n",
      "2.99\n",
      "1.99\n",
      "3.99\n",
      "5.99\n"
     ]
    }
   ],
   "source": [
    "# This can be really helpful for DATA stuff\n",
    "\n",
    "# to get values, must traverse through keys\n",
    "\n",
    "food_dict = {\n",
    "    'ice cream': {\n",
    "        'chocolate': 2.99,\n",
    "        'vanilla': 1.99,\n",
    "        'oreo': 3.99,\n",
    "        'pb': 5.99\n",
    "    },\n",
    "    'juice': {\n",
    "        'orange': 3.99,\n",
    "        'apple': 2.99,\n",
    "        'pineapple': 4.99\n",
    "    },\n",
    "    'meat': {\n",
    "        'chicken': 3.99,\n",
    "        'pork': 4.99,\n",
    "        'beef': 5.99\n",
    "    }\n",
    "}\n",
    "\n",
    "# Get what we want by going through the KEYS:\n",
    "print(food_dict['ice cream']['oreo'])\n",
    "print('\\n')\n",
    "\n",
    "# To print all the items:\n",
    "for i in food_dict['ice cream'].items():\n",
    "    print(i)\n",
    "print('\\n')\n",
    "\n",
    "# To print the keys of 'food_dict'\n",
    "for i in food_dict:\n",
    "    print(i)\n",
    "print('\\n')\n",
    "\n",
    "# To print the keys of 'ice cream':\n",
    "for i in food_dict['ice cream']:\n",
    "    print(i)\n",
    "print('\\n')\n",
    "\n",
    "# To print the keys of food_dict, if we don't know the name of all the keys:\n",
    "print(food_dict.keys())\n",
    "#OR we can make them neater and go line by line:\n",
    "for i in food_dict.keys():\n",
    "    print(i)\n",
    "\n",
    "print('\\n')\n",
    "# TO print items without knowing the names:\n",
    "# Here the k,v pair are returned as sets or tuples\n",
    "for i in food_dict.items():\n",
    "    print(i)\n",
    "\n",
    "print('\\n')\n",
    "print(food_dict.items())\n",
    "print('\\n')\n",
    "\n",
    "# For values:\n",
    "# Here you can see the k/v pair for the food items because they're the values (as dicts).\n",
    "# The keys were 'ice cream', 'juice', and 'meat'\n",
    "for i in food_dict.values():\n",
    "    print(i)\n",
    "\n",
    "print('\\n')\n",
    "\n",
    "# So another option:\n",
    "\n",
    "for i in food_dict['ice cream'].values():\n",
    "    print(i)\n"
   ]
  },
  {
   "cell_type": "markdown",
   "metadata": {},
   "source": [
    "## Dictionaries vs. Lists (over time) Example of RUNTIME\n",
    "### When inputting values in a Dictionary vs List"
   ]
  },
  {
   "cell_type": "code",
   "execution_count": 139,
   "metadata": {},
   "outputs": [],
   "source": [
    "import time\n",
    "\n",
    "\n",
    "# generate fake dictionary\n",
    "d = {}\n",
    "\n",
    "for i in range(10000000):\n",
    "    d[i] = 'value'\n",
    "    \n",
    "\n",
    "# generate fake list\n",
    "big_list = [x for x in range(10000000)]"
   ]
  },
  {
   "cell_type": "code",
   "execution_count": 140,
   "metadata": {},
   "outputs": [
    {
     "name": "stdout",
     "output_type": "stream",
     "text": [
      "value\n",
      "Elapsed time for dictionary: 0.0008220672607421875\n",
      "9999999\n",
      "Elapsed time for list: 0.5365939140319824\n"
     ]
    }
   ],
   "source": [
    "# tracking time for dictionary\n",
    "start_time = time.time()\n",
    "\n",
    "print(d[9999999])\n",
    "\n",
    "end_time = time.time() - start_time\n",
    "\n",
    "print('Elapsed time for dictionary: {}'.format(end_time))\n",
    "\n",
    "\n",
    "# tracking time for list\n",
    "start_time = time.time()\n",
    "\n",
    "for i in range(len(big_list)):\n",
    "    if i == 9999999:\n",
    "        print(i)\n",
    "\n",
    "end_time = time.time() - start_time\n",
    "\n",
    "print('Elapsed time for list: {}'.format(end_time))"
   ]
  },
  {
   "cell_type": "markdown",
   "metadata": {},
   "source": [
    "## Exercise #3 - Write a Function that asks someone's name and address, and then stores that into a dictionary, and continues to do so until they choose to 'quit'. Once they quit, the program should print all names and addresses. <br>\n",
    "<p>\n",
    "<b>Proper steps:</b><br>\n",
    "step 1: write a function that takes in information and stores it in a dictionary<br>\n",
    "step 2: define an empty dictionary to work with<br>\n",
    "step 3: create our loop, which asks the user for information until they quit<br>\n",
    "step 4: ask for the information, and store it into variables<br>\n",
    "step 5: check if the user types quit<br>\n",
    "step 5a: print out all information<br>\n",
    "step 5b: break out of the loop<br>\n",
    "step 6: if they didn't quit, add the information to the dictionary<br>\n",
    "step 7: invoke the function by calling it\n",
    "</p>"
   ]
  },
  {
   "cell_type": "code",
   "execution_count": null,
   "metadata": {},
   "outputs": [],
   "source": [
    "from IPython.display import clear_output"
   ]
  },
  {
   "cell_type": "code",
   "execution_count": 4,
   "metadata": {},
   "outputs": [
    {
     "name": "stdout",
     "output_type": "stream",
     "text": [
      "What is your name? \n",
      "David\n",
      "What is your address? \n",
      "Philadelphia\n",
      "Type 'q' or 'quit' to quit, or any other key to continue. \n",
      "g\n",
      "What is your name? \n",
      "Esther\n",
      "What is your address? \n",
      "Philly\n",
      "Type 'q' or 'quit' to quit, or any other key to continue. \n",
      "\n",
      "What is your name? \n",
      "Brandon\n",
      "What is your address? \n",
      "Alaska\n",
      "Type 'q' or 'quit' to quit, or any other key to continue. \n",
      " \n",
      "What is your name? \n",
      "Andy\n",
      "What is your address? \n",
      "New Jersey\n",
      "Type 'q' or 'quit' to quit, or any other key to continue. \n",
      "\n",
      "What is your name? \n",
      "Becky\n",
      "What is your address? \n",
      "New York\n",
      "Type 'q' or 'quit' to quit, or any other key to continue. \n",
      "q\n",
      "{'David': 'Philadelphia', 'Esther': 'Philly', 'Brandon': 'Alaska', 'Andy': 'New Jersey', 'Becky': 'New York'}\n"
     ]
    }
   ],
   "source": [
    "user_info={}\n",
    "def info():\n",
    "    while True:\n",
    "        question_1 = input('What is your name? \\n')\n",
    "        question_2 = input('What is your address? \\n')\n",
    "        user_info[question_1] = question_2\n",
    "        question_3 = input(\"Type 'q' or 'quit' to quit, or any other key to continue. \\n\")\n",
    "        if question_3.lower() == 'q' or question_3.lower() == 'quit':\n",
    "            print(user_info)\n",
    "            break\n",
    "        else:\n",
    "            continue\n",
    "info()"
   ]
  },
  {
   "cell_type": "markdown",
   "metadata": {},
   "source": [
    "## Set <br>\n",
    "<p>A Set is an unordered collection data type that is iterable (loop), mutable, and has no duplicate elements.<br>Major advantage is that it is highly optimized in checking if something is in the set, as opposed to checking if something is in a list.</p>"
   ]
  },
  {
   "cell_type": "markdown",
   "metadata": {},
   "source": [
    "##### Declaring"
   ]
  },
  {
   "cell_type": "code",
   "execution_count": 30,
   "metadata": {},
   "outputs": [
    {
     "name": "stdout",
     "output_type": "stream",
     "text": [
      "{1, 4, 6}\n"
     ]
    }
   ],
   "source": [
    "# set() or {}\n",
    "# no order {3, 2, 1} outputs as {1, 2, 3}\n",
    "\n",
    "nums = {4,1,6,4}\n",
    "print(nums)\n",
    "\n",
    "#Duplicates not allowed so only prints one.\n",
    "#While the order of the output might suggest it orders the nubmers, \n"
   ]
  },
  {
   "cell_type": "markdown",
   "metadata": {},
   "source": [
    "##### .add()"
   ]
  },
  {
   "cell_type": "code",
   "execution_count": 31,
   "metadata": {},
   "outputs": [
    {
     "name": "stdout",
     "output_type": "stream",
     "text": [
      "{56, 1, 4, 6}\n",
      "{1, 4, 6, 80, 56}\n",
      "{1, 4, 6, 80, 55, 56}\n"
     ]
    }
   ],
   "source": [
    "# set.add()\n",
    "\n",
    "nums.add(56)\n",
    "print(nums)\n",
    "\n",
    "nums.add(80)\n",
    "print(nums)\n",
    "\n",
    "nums.add(55)\n",
    "print(nums)\n",
    "\n",
    "# unordered. the order of the OUTPUT is dependent on the hash/bits stuff that I don't know anything about\n"
   ]
  },
  {
   "cell_type": "markdown",
   "metadata": {},
   "source": [
    "##### .remove()"
   ]
  },
  {
   "cell_type": "code",
   "execution_count": 32,
   "metadata": {},
   "outputs": [
    {
     "name": "stdout",
     "output_type": "stream",
     "text": [
      "{1, 4, 6, 80, 55}\n",
      "{1, 4, 6, 55}\n",
      "{1, 4, 6}\n"
     ]
    }
   ],
   "source": [
    "# removes by value\n",
    "# set.remove()\n",
    "\n",
    "nums.remove(56)\n",
    "print(nums)\n",
    "\n",
    "nums.remove(80)\n",
    "print(nums)\n",
    "\n",
    "nums.remove(55)\n",
    "print(nums)"
   ]
  },
  {
   "cell_type": "markdown",
   "metadata": {},
   "source": [
    "##### .union() "
   ]
  },
  {
   "cell_type": "code",
   "execution_count": 48,
   "metadata": {},
   "outputs": [
    {
     "name": "stdout",
     "output_type": "stream",
     "text": [
      "{1, 2, 3, 4, 5, 6}\n",
      "{1, 2, 3, 4, 5, 6}\n"
     ]
    }
   ],
   "source": [
    "# Returns a union of two sets, can also use '|' or set.union(set)\n",
    "# joins all numbers, gets rid of duplicates\n",
    "\n",
    "s1 = {1,2,3,4}\n",
    "s2 = {3,4,5,6}\n",
    "\n",
    "s3 = s1.union(s2)\n",
    "print(s3)\n",
    "\n",
    "# OR\n",
    "\n",
    "s4 = s1 | s2\n",
    "print(s4)\n"
   ]
  },
  {
   "cell_type": "markdown",
   "metadata": {},
   "source": [
    "##### .intersection()"
   ]
  },
  {
   "cell_type": "code",
   "execution_count": 38,
   "metadata": {},
   "outputs": [
    {
     "name": "stdout",
     "output_type": "stream",
     "text": [
      "{3, 4}\n",
      "{3, 4}\n"
     ]
    }
   ],
   "source": [
    "# Returns an intersection of two sets, can also use '&'\n",
    "# only takes similar elements from both sets\n",
    "\n",
    "s5 = s2 & s1\n",
    "print(s5)\n",
    "\n",
    "s6 = s1.intersection(s2)\n",
    "print(s6)\n",
    "\n"
   ]
  },
  {
   "cell_type": "markdown",
   "metadata": {},
   "source": [
    "##### .difference()"
   ]
  },
  {
   "cell_type": "code",
   "execution_count": 41,
   "metadata": {},
   "outputs": [
    {
     "name": "stdout",
     "output_type": "stream",
     "text": [
      "{1, 2, 3, 4}\n",
      "{3, 4, 5, 6}\n",
      "{5, 6}\n",
      "{1, 2}\n",
      "{5, 6}\n",
      "{1, 2}\n"
     ]
    }
   ],
   "source": [
    "# Returns a set containing all the elements of invoking set that are not in the second set, can also use '-'\n",
    "# only takes values from the first set that are not in the second set\n",
    "# order matters\n",
    "\n",
    "s7 = s2 - s1\n",
    "# OR\n",
    "s8 = s1.difference(s2)\n",
    "s9 = s2.difference(s1)\n",
    "s10 = s1 - s2\n",
    "\n",
    "print(s1)\n",
    "print(s2)\n",
    "print(s7)\n",
    "print(s8)\n",
    "print(s9)\n",
    "print(s10)"
   ]
  },
  {
   "cell_type": "markdown",
   "metadata": {},
   "source": [
    "##### .clear()"
   ]
  },
  {
   "cell_type": "code",
   "execution_count": 42,
   "metadata": {},
   "outputs": [
    {
     "name": "stdout",
     "output_type": "stream",
     "text": [
      "{1, 2}\n",
      "set()\n"
     ]
    }
   ],
   "source": [
    "# Empties the whole set\n",
    "# set.clear()\n",
    "print(s8)\n",
    "s8.clear()\n",
    "print(s8)"
   ]
  },
  {
   "cell_type": "markdown",
   "metadata": {},
   "source": [
    "##### Frozenset <br>\n",
    "<p>Frozen sets are <em>immutable objects</em> that only support methods and operators that produce a result without affecting the frozen set or sets to which they are applied.</p><br><b>Unique & Immutable</b>"
   ]
  },
  {
   "cell_type": "code",
   "execution_count": 49,
   "metadata": {},
   "outputs": [
    {
     "name": "stdout",
     "output_type": "stream",
     "text": [
      "{1, 2, 3, 4, 5, 6}\n",
      "frozenset({1, 2, 3, 4, 5, 6})\n",
      "{1, 2, 3, 4, 5, 6, 56}\n",
      "frozenset({1, 2, 3, 4, 5, 6})\n"
     ]
    }
   ],
   "source": [
    "# frozenset([])\n",
    "print(s3)\n",
    "my_frozen_set = frozenset(s3)\n",
    "print(my_frozen_set)\n",
    "\n",
    "#now 'my_frozen_set' is frozen and so no longer mutable.\n",
    "# my_frozen_set.add(56)\n",
    "# AttributeError: 'frozenset' object has no attribute 'add'\n",
    "\n",
    "# BUT I can go still go to 's3' and use the add, since s3 is still mutable.\n",
    "s3.add(56)\n",
    "print(s3)\n",
    "print(my_frozen_set)"
   ]
  },
  {
   "cell_type": "markdown",
   "metadata": {},
   "source": [
    "## Modules"
   ]
  },
  {
   "cell_type": "markdown",
   "metadata": {},
   "source": [
    "##### Importing Entire Modules"
   ]
  },
  {
   "cell_type": "code",
   "execution_count": 51,
   "metadata": {},
   "outputs": [
    {
     "name": "stdout",
     "output_type": "stream",
     "text": [
      "3.141592653589793\n",
      "3\n"
     ]
    }
   ],
   "source": [
    "# import or from 'xxx' import *\n",
    "\n",
    "#import math  \n",
    "# OR \n",
    "from math import *\n",
    "\n",
    "print(pi)\n",
    "print(floor(pi))\n",
    "\n"
   ]
  },
  {
   "cell_type": "markdown",
   "metadata": {},
   "source": [
    "##### Importing Methods Only"
   ]
  },
  {
   "cell_type": "code",
   "execution_count": 53,
   "metadata": {},
   "outputs": [
    {
     "data": {
      "text/plain": [
       "2"
      ]
     },
     "execution_count": 53,
     "metadata": {},
     "output_type": "execute_result"
    }
   ],
   "source": [
    "# from 'xxx' import 'xxx'\n",
    "from math import floor\n",
    "\n",
    "floor(5/2)\n",
    "\n",
    "\n"
   ]
  },
  {
   "cell_type": "markdown",
   "metadata": {},
   "source": [
    "##### Using the 'as' Keyword"
   ]
  },
  {
   "cell_type": "code",
   "execution_count": 54,
   "metadata": {},
   "outputs": [
    {
     "data": {
      "text/plain": [
       "3"
      ]
     },
     "execution_count": 54,
     "metadata": {},
     "output_type": "execute_result"
    }
   ],
   "source": [
    "# from 'xxx' import 'xxx' as 'xxx' or import 'xxx' as 'xxx'\n",
    "from math import floor as f, pi as p\n",
    "\n",
    "f(p)\n"
   ]
  },
  {
   "cell_type": "markdown",
   "metadata": {},
   "source": [
    "##### Creating a Module"
   ]
  },
  {
   "cell_type": "code",
   "execution_count": 56,
   "metadata": {},
   "outputs": [
    {
     "name": "stdout",
     "output_type": "stream",
     "text": [
      "Hello Mr./Ms. David... We've been waiting for you!\n"
     ]
    }
   ],
   "source": [
    "import module\n",
    "\n",
    "module.print_name('David')"
   ]
  },
  {
   "cell_type": "markdown",
   "metadata": {},
   "source": [
    "# Exercises"
   ]
  },
  {
   "cell_type": "markdown",
   "metadata": {},
   "source": [
    "### 1) Build a Shopping Cart <br>\n",
    "<p><b>You can use either lists or dictionaries. The program should have the following capabilities:</b><br><br>\n",
    "1) Takes in input <br>\n",
    "2) Stores user input into a dictionary or list <br>\n",
    "3) The User can add or delete items <br>\n",
    "4) The User can see current shopping list <br>\n",
    "5) The program Loops until user 'quits' <br>\n",
    "6) Upon quiting the program, print out all items in the user's list <br>\n",
    "</p>"
   ]
  },
  {
   "cell_type": "code",
   "execution_count": 3,
   "metadata": {},
   "outputs": [
    {
     "name": "stdout",
     "output_type": "stream",
     "text": [
      "What is your name? David\n",
      "\n",
      "\n",
      "Welcome to the Shopping Cart Program, David!\n",
      "This program will allow you to add items to your shopping cart.\n",
      "----------------------------------------------------------\n",
      "\n",
      "\n",
      "                     MAIN MENU:\n",
      "----------------------------------------------------------\n",
      "Type 'SHOW' or 'S' to show current items in your shopping cart\n",
      "Type 'ADD or 'A' to add another item to cart\n",
      "Type 'DEL' or 'D' to remove an item from cart\n",
      "OR to quit this program: Type 'QUIT' or 'Q'\n",
      "\n",
      "\n",
      "Please choose an option: s\n",
      "\n",
      "\n",
      "Item     :     Price\n",
      "---------------------\n",
      "---------------------\n",
      "# of items: 0\n",
      "Subtotal: $0.00\n",
      "Press 'Q' to QUIT or ANY other key to return to the main menu: \n",
      "\n",
      "\n",
      "                     MAIN MENU:\n",
      "----------------------------------------------------------\n",
      "Type 'SHOW' or 'S' to show current items in your shopping cart\n",
      "Type 'ADD or 'A' to add another item to cart\n",
      "Type 'DEL' or 'D' to remove an item from cart\n",
      "OR to quit this program: Type 'QUIT' or 'Q'\n",
      "\n",
      "\n",
      "Please choose an option: a\n",
      "\n",
      "\n",
      "Which item would you like to place in your shopping cart? apple\n",
      "Please enter the price amount in dollars and cents (ex: 0.99, 3.49, 11.55, etc.) 1\n",
      "You have successfully added Apple ($1.00)to your shopping cart!\n",
      "\n",
      "\n",
      "Would you like to add another item to your cart?\n",
      "Press 'Y' to proceed or 'N' to go to the main menu: milk\n",
      "INVALID ENTRY. PLEASE PRESS 'Y' OR 'N'.\n",
      "\n",
      "\n",
      "Would you like to add another item to your cart?\n",
      "Press 'Y' to proceed or 'N' to go to the main menu: y\n",
      "\n",
      "\n",
      "Which item would you like to place in your shopping cart? milk\n",
      "Please enter the price amount in dollars and cents (ex: x.xx) 3.99\n",
      "You have successfully added Milk ($3.99) to your shopping cart!\n",
      "\n",
      "\n",
      "Would you like to add another item to your cart?\n",
      "Press 'Y' to proceed or 'N' to go to the main menu: y\n",
      "\n",
      "\n",
      "Which item would you like to place in your shopping cart? eggs\n",
      "Please enter the price amount in dollars and cents (ex: x.xx) 8\n",
      "You have successfully added Eggs ($8.00) to your shopping cart!\n",
      "\n",
      "\n",
      "Would you like to add another item to your cart?\n",
      "Press 'Y' to proceed or 'N' to go to the main menu: y\n",
      "\n",
      "\n",
      "Which item would you like to place in your shopping cart? ice cream\n",
      "Please enter the price amount in dollars and cents (ex: x.xx) 10.90\n",
      "You have successfully added Ice Cream ($10.90) to your shopping cart!\n",
      "\n",
      "\n",
      "Would you like to add another item to your cart?\n",
      "Press 'Y' to proceed or 'N' to go to the main menu: n\n",
      "\n",
      "\n",
      "                     MAIN MENU:\n",
      "----------------------------------------------------------\n",
      "Type 'SHOW' or 'S' to show current items in your shopping cart\n",
      "Type 'ADD or 'A' to add another item to cart\n",
      "Type 'DEL' or 'D' to remove an item from cart\n",
      "OR to quit this program: Type 'QUIT' or 'Q'\n",
      "\n",
      "\n",
      "Please choose an option: s\n",
      "\n",
      "\n",
      "Item     :     Price\n",
      "---------------------\n",
      " Apple : $1.00\n",
      " Milk : $3.99\n",
      " Eggs : $8.00\n",
      " Ice Cream : $10.90\n",
      "---------------------\n",
      "# of items: 4\n",
      "Subtotal: $23.89\n",
      "Press 'Q' to QUIT or ANY other key to return to the main menu: \n",
      "\n",
      "\n",
      "                     MAIN MENU:\n",
      "----------------------------------------------------------\n",
      "Type 'SHOW' or 'S' to show current items in your shopping cart\n",
      "Type 'ADD or 'A' to add another item to cart\n",
      "Type 'DEL' or 'D' to remove an item from cart\n",
      "OR to quit this program: Type 'QUIT' or 'Q'\n",
      "\n",
      "\n",
      "Please choose an option: d\n",
      "\n",
      "\n",
      "Which item would you like to remove from your cart? apple\n",
      "\n",
      "\n",
      "You have successfully removed the item 'Apple' from your cart!\n",
      "\n",
      "\n",
      "Would you like to remove another item from your cart?\n",
      "Type 'Y' to proceed or 'N' to go to the main menu: n\n",
      "\n",
      "\n",
      "                     MAIN MENU:\n",
      "----------------------------------------------------------\n",
      "Type 'SHOW' or 'S' to show current items in your shopping cart\n",
      "Type 'ADD or 'A' to add another item to cart\n",
      "Type 'DEL' or 'D' to remove an item from cart\n",
      "OR to quit this program: Type 'QUIT' or 'Q'\n",
      "\n",
      "\n",
      "Please choose an option: q\n",
      "Here is your shopping cart from this session:\n",
      "---------------------------\n",
      " Milk : $3.99\n",
      " Eggs : $8.00\n",
      " Ice Cream : $10.90\n",
      "---------------------------\n",
      "You have 3 items in your cart, for a subtotal of $22.89\n",
      "See you next time!\n"
     ]
    }
   ],
   "source": [
    "from IPython.display import clear_output\n",
    "\n",
    "# Ask the user four bits of input: Do you want to : Show/Add/Delete or Quit?\n",
    "\n",
    "import shopcartmain as scmain, shopcartmod as scmod\n",
    "\n",
    "scmain.shopping_cart_program()\n",
    "            \n",
    "\n"
   ]
  },
  {
   "cell_type": "markdown",
   "metadata": {},
   "source": [
    "### 2) Create a Module in VS Code and Import It into jupyter notebook <br>\n",
    "<p><b>Module should have the following capabilities:</b><br><br>\n",
    "1) Has a function to calculate the square footage of a house <br>\n",
    "    <b>Reminder of Formula: Length X Width == Area<br>\n",
    "        <hr>\n",
    "2) Has a function to calculate the circumference of a circle <br><br>\n",
    "<b>Program in Jupyter Notebook should take in user input and use imported functions to calculate a circle's circumference or a houses square footage</b>\n",
    "</p>"
   ]
  },
  {
   "cell_type": "code",
   "execution_count": 1,
   "metadata": {},
   "outputs": [
    {
     "name": "stdout",
     "output_type": "stream",
     "text": [
      "Please enter the LENGTH of the house: 80\n",
      "Please enter the WIDTH of the house: 60\n",
      "The area of the house is 4800.0 square feet.\n",
      "Please enter the RADIUS of the circle: 6\n",
      "Circumference by radius (rounded to the nearest 100th): 37.70.\n",
      "Please enter the DIAMETER of the circle: 12\n",
      "Circumference by diameter (rounded to the nearest 100th): 37.70.\n"
     ]
    }
   ],
   "source": [
    "import math\n",
    "import module_hw as mod\n",
    "\n",
    "mod.find_area()\n",
    "\n",
    "mod.find_circumf_by_radius()\n",
    "\n",
    "mod.find_circumf_by_diameter()"
   ]
  }
 ],
 "metadata": {
  "kernelspec": {
   "display_name": "Python 3 (ipykernel)",
   "language": "python",
   "name": "python3"
  },
  "language_info": {
   "codemirror_mode": {
    "name": "ipython",
    "version": 3
   },
   "file_extension": ".py",
   "mimetype": "text/x-python",
   "name": "python",
   "nbconvert_exporter": "python",
   "pygments_lexer": "ipython3",
   "version": "3.9.13"
  }
 },
 "nbformat": 4,
 "nbformat_minor": 2
}
